{
 "cells": [
  {
   "cell_type": "markdown",
   "metadata": {
    "id": "xfssKI4hedYC"
   },
   "source": [
    "### Cab-Driver Agent"
   ]
  },
  {
   "cell_type": "code",
   "execution_count": 1,
   "metadata": {
    "executionInfo": {
     "elapsed": 540,
     "status": "ok",
     "timestamp": 1637397873194,
     "user": {
      "displayName": "Venki Ramachandran",
      "photoUrl": "https://lh3.googleusercontent.com/a-/AOh14Gj4N_LcMBaS6NUgQ6uPvT_k-YD1o1ZQ_FAuUyQJJS4=s64",
      "userId": "10774707726325294588"
     },
     "user_tz": -330
    },
    "id": "_7vchohAedYL"
   },
   "outputs": [],
   "source": [
    "# Importing libraries\n",
    "import numpy as np\n",
    "import random\n",
    "import math\n",
    "import time\n",
    "from collections import deque\n",
    "import collections\n",
    "import pickle\n",
    "import joblib\n",
    "\n",
    "# for building DQN model\n",
    "import tensorflow\n",
    "from tensorflow.keras import layers\n",
    "from tensorflow.keras import Sequential\n",
    "from tensorflow.keras.layers import Dense, Activation, Flatten\n",
    "from tensorflow.keras.optimizers import Adam\n",
    "from tensorflow.keras.models import save_model\n",
    "\n",
    "# for plotting graphs\n",
    "import matplotlib.pyplot as plt\n",
    "\n",
    "# Import the environment\n",
    "from Env import CabDriver"
   ]
  },
  {
   "cell_type": "markdown",
   "metadata": {
    "id": "IZJeUyxhedYO"
   },
   "source": [
    "#### Defining Time Matrix"
   ]
  },
  {
   "cell_type": "code",
   "execution_count": 2,
   "metadata": {
    "executionInfo": {
     "elapsed": 11,
     "status": "ok",
     "timestamp": 1637397873195,
     "user": {
      "displayName": "Venki Ramachandran",
      "photoUrl": "https://lh3.googleusercontent.com/a-/AOh14Gj4N_LcMBaS6NUgQ6uPvT_k-YD1o1ZQ_FAuUyQJJS4=s64",
      "userId": "10774707726325294588"
     },
     "user_tz": -330
    },
    "id": "atqHJK0_edYP"
   },
   "outputs": [],
   "source": [
    "# Loading the time matrix provided\n",
    "Time_matrix = np.load(\"TM.npy\")"
   ]
  },
  {
   "cell_type": "markdown",
   "metadata": {
    "id": "eTFiPofGedYQ"
   },
   "source": [
    "#### Tracking the state-action pairs for checking convergence\n"
   ]
  },
  {
   "cell_type": "code",
   "execution_count": 3,
   "metadata": {
    "executionInfo": {
     "elapsed": 11,
     "status": "ok",
     "timestamp": 1637397873195,
     "user": {
      "displayName": "Venki Ramachandran",
      "photoUrl": "https://lh3.googleusercontent.com/a-/AOh14Gj4N_LcMBaS6NUgQ6uPvT_k-YD1o1ZQ_FAuUyQJJS4=s64",
      "userId": "10774707726325294588"
     },
     "user_tz": -330
    },
    "id": "r6Aly2KAedYU"
   },
   "outputs": [],
   "source": [
    "# Initialise states to be tracked\n",
    "def initialise_tracking_states():\n",
    "    sample_q_values = [((0, 0, 0), (0,1)), ((0, 0, 0), (0,2))]    \n",
    "    for q_values in sample_q_values:\n",
    "        state = q_values[0]\n",
    "        action = q_values[1]\n",
    "        States_track[state][action] = []"
   ]
  },
  {
   "cell_type": "code",
   "execution_count": 4,
   "metadata": {
    "colab": {
     "base_uri": "https://localhost:8080/"
    },
    "executionInfo": {
     "elapsed": 11,
     "status": "ok",
     "timestamp": 1637397873196,
     "user": {
      "displayName": "Venki Ramachandran",
      "photoUrl": "https://lh3.googleusercontent.com/a-/AOh14Gj4N_LcMBaS6NUgQ6uPvT_k-YD1o1ZQ_FAuUyQJJS4=s64",
      "userId": "10774707726325294588"
     },
     "user_tz": -330
    },
    "id": "r96Bafmr5EdK",
    "outputId": "95dab77d-7e2f-4416-9a60-cdaa489c2973"
   },
   "outputs": [
    {
     "name": "stdout",
     "output_type": "stream",
     "text": [
      "0\n"
     ]
    }
   ],
   "source": [
    "States_track = collections.defaultdict(dict)\n",
    "print(len(States_track))"
   ]
  },
  {
   "cell_type": "markdown",
   "metadata": {
    "id": "RAzgJZ4HedYW"
   },
   "source": [
    "### Agent Class\n",
    "\n",
    "If you are using this framework, you need to fill the following to complete the following code block:\n",
    "1. State and Action Size\n",
    "2. Hyperparameters\n",
    "3. Create a neural-network model in function 'build_model()'\n",
    "4. Define epsilon-greedy strategy in function 'get_action()'\n",
    "5. Complete the function 'append_sample()'. This function appends the recent experience tuple <state, action, reward, new-state> to the memory\n",
    "6. Complete the 'train_model()' function with following logic:\n",
    "   - If the memory size is greater than mini-batch size, you randomly sample experiences from memory as per the mini-batch size and do the following:\n",
    "      - Initialise your input and output batch for training the model\n",
    "      - Calculate the target Q value for each sample: reward + gamma*max(Q(s'a,))\n",
    "      - Get Q(s', a) values from the last trained model\n",
    "      - Update the input batch as your encoded state and output batch as your Q-values\n",
    "      - Then fit your DQN model using the updated input and output batch."
   ]
  },
  {
   "cell_type": "code",
   "execution_count": 5,
   "metadata": {
    "executionInfo": {
     "elapsed": 7,
     "status": "ok",
     "timestamp": 1637397873196,
     "user": {
      "displayName": "Venki Ramachandran",
      "photoUrl": "https://lh3.googleusercontent.com/a-/AOh14Gj4N_LcMBaS6NUgQ6uPvT_k-YD1o1ZQ_FAuUyQJJS4=s64",
      "userId": "10774707726325294588"
     },
     "user_tz": -330
    },
    "id": "eyM-FaOpedYW"
   },
   "outputs": [],
   "source": [
    "class DQNAgent:\n",
    "    def __init__(self, state_size, action_size):\n",
    "        # Define size of state and action\n",
    "        self.state_size = state_size\n",
    "        self.action_size = action_size\n",
    "        # Initialize the value of the states tracked\n",
    "        self.states_tracked = []\n",
    "        # We are going to track state [0,0,0] and action (0,2) at index 2 in the action space.\n",
    "        self.track_state = np.array(env.state_encod_arch1([0,0,0])).reshape(1, 36)\n",
    "\n",
    "        # Write here: Specify you hyper parameters for the DQN\n",
    "        self.discount_factor = 0.95\n",
    "        self.learning_rate = 0.01\n",
    "        self.epsilon = 1\n",
    "        self.epsilon_max = 1\n",
    "        self.epsilon_decay = 0.99\n",
    "        self.epsilon_min = 0.005\n",
    "        \n",
    "        self.batch_size = 32        \n",
    "        # create replay memory using deque\n",
    "        self.memory = deque(maxlen=2000)\n",
    " \n",
    "        # create main model and target model\n",
    "        self.model = self.build_model()\n",
    "\n",
    "    # approximate Q function using Neural Network\n",
    "    def build_model(self):\n",
    "        model = Sequential()\n",
    "        # Write your code here: Add layers to your neural nets\n",
    "        input_shape = self.state_size\n",
    "        # Write your code here: Add layers to your neural nets       \n",
    "        model.add(Dense(32, input_dim=self.state_size, activation='relu', kernel_initializer='he_uniform'))\n",
    "        model.add(Dense(32, activation='relu', kernel_initializer='he_uniform'))\n",
    "        # the output layer: output is of size num_actions\n",
    "        model.add(Dense(self.action_size, activation='relu', kernel_initializer='he_uniform'))\n",
    "        \n",
    "        model.compile(loss='mse',optimizer=Adam(learning_rate=self.learning_rate))\n",
    "        model.summary\n",
    "        return model\n",
    "\n",
    "    def get_action(self, state, possible_actions_index, actions):\n",
    "        # Write your code here:\n",
    "        # get action from model using epsilon-greedy policy\n",
    "        # Decay in ε after we generate each sample from the environment\n",
    "        if np.random.rand() <= self.epsilon:\n",
    "            # explore: choose a random action from the ride requests\n",
    "            return random.choice(possible_actions_index)\n",
    "        else:\n",
    "            # choose the action with the highest q(s, a)\n",
    "            # the first index corresponds to the batch size, so\n",
    "            # reshape state to (1, state_size) so that the first index corresponds to the batch size\n",
    "            state = np.array(env.state_encod_arch1(state)).reshape(1, 36)\n",
    "\n",
    "            # Use the model to predict the Q_values.\n",
    "            q_value = self.model.predict(state)\n",
    "\n",
    "            # truncate the array to only those actions that are part of the ride  requests.\n",
    "            q_vals_possible = [q_value[0][i] for i in possible_actions_index]\n",
    "\n",
    "            return possible_actions_index[np.argmax(q_vals_possible)]\n",
    "    \n",
    "    def append_sample(self, state, action_index, reward, next_state, done):\n",
    "        \"\"\"appends the new agent run output to replay buffer\"\"\"\n",
    "        self.memory.append((state, action_index, reward, next_state, done))\n",
    "    \n",
    "    # pick samples randomly from replay memory (with batch_size) and train the network\n",
    "    def train_model(self):\n",
    "        \n",
    "        if len(self.memory) > self.batch_size:\n",
    "            # Sample batch from the memory\n",
    "            mini_batch = random.sample(self.memory, self.batch_size)\n",
    "            # initialise two matrices - update_input and update_output\n",
    "            update_input = np.zeros((self.batch_size, self.state_size))\n",
    "            update_output = np.zeros((self.batch_size, self.state_size))\n",
    "            actions, rewards, done = [], [], []\n",
    "\n",
    "            # populate update_input and update_output and the lists rewards, actions, done\n",
    "            for i in range(self.batch_size):\n",
    "                state, action, reward, next_state, done_boolean = mini_batch[i]\n",
    "                update_input[i] = env.state_encod_arch1(state)     \n",
    "                actions.append(action)\n",
    "                rewards.append(reward)\n",
    "                update_output[i] = env.state_encod_arch1(next_state)\n",
    "                done.append(done_boolean)\n",
    "\n",
    "            # predict the target q-values from states s\n",
    "            target = self.model.predict(update_input)\n",
    "            # target for q-network\n",
    "            target_qval = self.model.predict(update_output)\n",
    "\n",
    "\n",
    "            # update the target values\n",
    "            for i in range(self.batch_size):\n",
    "                if done[i]:\n",
    "                    target[i][actions[i]] = rewards[i]\n",
    "                else: # non-terminal state\n",
    "                    target[i][actions[i]] = rewards[i] + self.discount_factor * np.max(target_qval[i])\n",
    "            # model fit\n",
    "            self.model.fit(update_input, target, batch_size=self.batch_size, epochs=1, verbose=0)\n",
    "    \n",
    "    def save_tracking_states(self):\n",
    "        # Use the model to predict the q_value of the state we are tacking.\n",
    "        q_value = self.model.predict(self.track_state)\n",
    "        \n",
    "        # Grab the q_value of the action index that we are tracking.\n",
    "        self.states_tracked.append(q_value[0][2])\n",
    "        \n",
    "    def save_test_states(self):\n",
    "        # Use the model to predict the q_value of the state we are tacking.\n",
    "        q_value = self.model.predict(self.track_state)\n",
    "        \n",
    "        # Grab the q_value of the action index that we are tracking.\n",
    "        self.states_test.append(q_value[0][2])\n",
    "\n",
    "    def save_model_weights(self, name):\n",
    "        self.model.save_weights(name)\n",
    "\n",
    "    def save(self, name):\n",
    "        with open(name, 'wb') as file:  \n",
    "            pickle.dump(self.model, file, pickle.HIGHEST_PROTOCOL)"
   ]
  },
  {
   "cell_type": "code",
   "execution_count": 6,
   "metadata": {
    "executionInfo": {
     "elapsed": 335,
     "status": "ok",
     "timestamp": 1637397873524,
     "user": {
      "displayName": "Venki Ramachandran",
      "photoUrl": "https://lh3.googleusercontent.com/a-/AOh14Gj4N_LcMBaS6NUgQ6uPvT_k-YD1o1ZQ_FAuUyQJJS4=s64",
      "userId": "10774707726325294588"
     },
     "user_tz": -330
    },
    "id": "FXfWkbNaedYd"
   },
   "outputs": [],
   "source": [
    "episode_time = 24*30 #30 days before which car has to be recharged\n",
    "n_episodes = 2000\n",
    "m = 5\n",
    "t = 24\n",
    "d = 7\n",
    "\n",
    "# Invoke Env class\n",
    "env = CabDriver()\n",
    "action_space, state_space, state = env.reset()\n",
    "\n",
    "# Set up state and action sizes.\n",
    "state_size = m+t+d\n",
    "action_size = len(action_space)\n",
    "\n",
    "# Invoke agent class\n",
    "agent = DQNAgent(action_size=action_size, state_size=state_size)\n",
    "\n",
    "# to store rewards in each episode\n",
    "rewards_per_episode, episodes = [], []\n",
    "# Rewards for state [0,0,0] being tracked.\n",
    "rewards_init_state = []"
   ]
  },
  {
   "cell_type": "markdown",
   "metadata": {
    "id": "2pXlE1HFedYe"
   },
   "source": [
    "### DQN block"
   ]
  },
  {
   "cell_type": "code",
   "execution_count": 7,
   "metadata": {
    "colab": {
     "base_uri": "https://localhost:8080/"
    },
    "executionInfo": {
     "elapsed": 10505958,
     "status": "ok",
     "timestamp": 1637408379477,
     "user": {
      "displayName": "Venki Ramachandran",
      "photoUrl": "https://lh3.googleusercontent.com/a-/AOh14Gj4N_LcMBaS6NUgQ6uPvT_k-YD1o1ZQ_FAuUyQJJS4=s64",
      "userId": "10774707726325294588"
     },
     "user_tz": -330
    },
    "id": "DFNzbXyIedYf",
    "outputId": "99527730-f321-4ba1-fcb8-bb4c8159aaf8"
   },
   "outputs": [
    {
     "name": "stdout",
     "output_type": "stream",
     "text": [
      "Started at GMT: 2021-11-21 22:44:38\n",
      "Completed 0 Episodes\n",
      "episode 9, reward 262.0, memory_length 1103, epsilon 0.9043820750088043, total_time 729.0\n",
      "episode 19, reward -24.0, memory_length 2000, epsilon 0.8179069375972307, total_time 722.0\n",
      "episode 29, reward 415.0, memory_length 2000, epsilon 0.7397003733882802, total_time 722.0\n",
      "episode 39, reward 531.0, memory_length 2000, epsilon 0.6689717585696803, total_time 724.0\n",
      "episode 49, reward 486.0, memory_length 2000, epsilon 0.6050060671375365, total_time 722.0\n",
      "episode 59, reward 576.0, memory_length 2000, epsilon 0.5471566423907612, total_time 722.0\n",
      "episode 69, reward 1062.0, memory_length 2000, epsilon 0.49483865960020695, total_time 726.0\n",
      "episode 79, reward 1148.0, memory_length 2000, epsilon 0.44752321376381066, total_time 729.0\n",
      "episode 89, reward 976.0, memory_length 2000, epsilon 0.4047319726783239, total_time 722.0\n",
      "episode 99, reward 852.0, memory_length 2000, epsilon 0.36603234127322926, total_time 724.0\n",
      "episode 109, reward 962.0, memory_length 2000, epsilon 0.33103308832101386, total_time 727.0\n",
      "episode 119, reward 813.0, memory_length 2000, epsilon 0.29938039131233124, total_time 721.0\n",
      "episode 129, reward 1486.0, memory_length 2000, epsilon 0.270754259511994, total_time 733.0\n",
      "episode 139, reward 1148.0, memory_length 2000, epsilon 0.24486529903492946, total_time 730.0\n",
      "episode 149, reward 1193.0, memory_length 2000, epsilon 0.22145178723886094, total_time 721.0\n",
      "episode 159, reward 1124.0, memory_length 2000, epsilon 0.20027702685748935, total_time 721.0\n",
      "episode 169, reward 1370.0, memory_length 2000, epsilon 0.18112695312597027, total_time 733.0\n",
      "episode 179, reward 1319.0, memory_length 2000, epsilon 0.16380796970808745, total_time 721.0\n",
      "episode 189, reward 1606.0, memory_length 2000, epsilon 0.1481449915475795, total_time 721.0\n",
      "episode 199, reward 1558.0, memory_length 2000, epsilon 0.13397967485796175, total_time 728.0\n",
      "episode 209, reward 1369.0, memory_length 2000, epsilon 0.1211688163570484, total_time 730.0\n",
      "episode 219, reward 1764.0, memory_length 2000, epsilon 0.10958290556334822, total_time 727.0\n",
      "episode 229, reward 1694.0, memory_length 2000, epsilon 0.09910481551887473, total_time 722.0\n",
      "episode 239, reward 1716.0, memory_length 2000, epsilon 0.08962861870232469, total_time 723.0\n",
      "episode 249, reward 2007.0, memory_length 2000, epsilon 0.08105851616218133, total_time 732.0\n",
      "episode 259, reward 1814.0, memory_length 2000, epsilon 0.07330786904388827, total_time 726.0\n",
      "episode 269, reward 1428.0, memory_length 2000, epsilon 0.06629832272038537, total_time 724.0\n",
      "episode 279, reward 1376.0, memory_length 2000, epsilon 0.05995901467146548, total_time 724.0\n",
      "episode 289, reward 1715.0, memory_length 2000, epsilon 0.054225858104063294, total_time 725.0\n",
      "episode 299, reward 1419.0, memory_length 2000, epsilon 0.04904089407128576, total_time 724.0\n",
      "episode 309, reward 1755.0, memory_length 2000, epsilon 0.04435170554047638, total_time 730.0\n",
      "episode 319, reward 1276.0, memory_length 2000, epsilon 0.04011088748687551, total_time 721.0\n",
      "episode 329, reward 1460.0, memory_length 2000, epsilon 0.036275567655825146, total_time 736.0\n",
      "episode 339, reward 1981.0, memory_length 2000, epsilon 0.03280697314869741, total_time 725.0\n",
      "episode 349, reward 1854.0, memory_length 2000, epsilon 0.029670038450977095, total_time 730.0\n",
      "episode 359, reward 1513.0, memory_length 2000, epsilon 0.026833050939885677, total_time 728.0\n",
      "episode 369, reward 2126.0, memory_length 2000, epsilon 0.024267330287830756, total_time 723.0\n",
      "episode 379, reward 1998.0, memory_length 2000, epsilon 0.02194693852063239, total_time 728.0\n",
      "episode 389, reward 1922.0, memory_length 2000, epsilon 0.01984841779938018, total_time 728.0\n",
      "episode 399, reward 1245.0, memory_length 2000, epsilon 0.017950553275045134, total_time 725.0\n",
      "episode 409, reward 1859.0, memory_length 2000, epsilon 0.01623415861844141, total_time 725.0\n",
      "episode 419, reward 1627.0, memory_length 2000, epsilon 0.014681882057368112, total_time 726.0\n",
      "episode 429, reward 2265.0, memory_length 2000, epsilon 0.013278030960077106, total_time 725.0\n",
      "episode 439, reward 2030.0, memory_length 2000, epsilon 0.01200841319170568, total_time 729.0\n",
      "episode 449, reward 1827.0, memory_length 2000, epsilon 0.010860193639877886, total_time 722.0\n",
      "episode 459, reward 1932.0, memory_length 2000, epsilon 0.009821764459030182, total_time 730.0\n",
      "episode 469, reward 2044.0, memory_length 2000, epsilon 0.00888262772170544, total_time 722.0\n",
      "episode 479, reward 2081.0, memory_length 2000, epsilon 0.008033289290486696, total_time 722.0\n",
      "episode 489, reward 1441.0, memory_length 2000, epsilon 0.0072651628376763635, total_time 729.0\n",
      "episode 499, reward 1877.0, memory_length 2000, epsilon 0.006570483042414605, total_time 724.0\n",
      "episode 509, reward 1958.0, memory_length 2000, epsilon 0.005942227087709083, total_time 726.0\n",
      "episode 519, reward 1596.0, memory_length 2000, epsilon 0.005374043663755866, total_time 729.0\n",
      "episode 529, reward 2217.0, memory_length 2000, epsilon 0.004958870278354705, total_time 725.0\n",
      "episode 539, reward 1838.0, memory_length 2000, epsilon 0.004958870278354705, total_time 721.0\n",
      "episode 549, reward 2129.0, memory_length 2000, epsilon 0.004958870278354705, total_time 723.0\n",
      "episode 559, reward 1553.0, memory_length 2000, epsilon 0.004958870278354705, total_time 727.0\n",
      "episode 569, reward 2084.0, memory_length 2000, epsilon 0.004958870278354705, total_time 722.0\n",
      "episode 579, reward 1985.0, memory_length 2000, epsilon 0.004958870278354705, total_time 730.0\n",
      "episode 589, reward 2199.0, memory_length 2000, epsilon 0.004958870278354705, total_time 722.0\n",
      "episode 599, reward 1896.0, memory_length 2000, epsilon 0.004958870278354705, total_time 728.0\n",
      "episode 609, reward 1702.0, memory_length 2000, epsilon 0.004958870278354705, total_time 722.0\n",
      "episode 619, reward 1584.0, memory_length 2000, epsilon 0.004958870278354705, total_time 729.0\n",
      "episode 629, reward 1739.0, memory_length 2000, epsilon 0.004958870278354705, total_time 729.0\n",
      "episode 639, reward 2002.0, memory_length 2000, epsilon 0.004958870278354705, total_time 721.0\n",
      "episode 649, reward 1417.0, memory_length 2000, epsilon 0.004958870278354705, total_time 723.0\n",
      "episode 659, reward 1917.0, memory_length 2000, epsilon 0.004958870278354705, total_time 724.0\n",
      "episode 669, reward 1927.0, memory_length 2000, epsilon 0.004958870278354705, total_time 722.0\n",
      "episode 679, reward 1869.0, memory_length 2000, epsilon 0.004958870278354705, total_time 730.0\n",
      "episode 689, reward 2160.0, memory_length 2000, epsilon 0.004958870278354705, total_time 726.0\n",
      "episode 699, reward 2111.0, memory_length 2000, epsilon 0.004958870278354705, total_time 729.0\n",
      "episode 709, reward 2163.0, memory_length 2000, epsilon 0.004958870278354705, total_time 721.0\n",
      "episode 719, reward 1860.0, memory_length 2000, epsilon 0.004958870278354705, total_time 737.0\n",
      "episode 729, reward 2057.0, memory_length 2000, epsilon 0.004958870278354705, total_time 727.0\n",
      "episode 739, reward 1550.0, memory_length 2000, epsilon 0.004958870278354705, total_time 727.0\n",
      "episode 749, reward 1648.0, memory_length 2000, epsilon 0.004958870278354705, total_time 725.0\n",
      "episode 759, reward 1249.0, memory_length 2000, epsilon 0.004958870278354705, total_time 724.0\n",
      "episode 769, reward 1825.0, memory_length 2000, epsilon 0.004958870278354705, total_time 722.0\n",
      "episode 779, reward 1740.0, memory_length 2000, epsilon 0.004958870278354705, total_time 721.0\n",
      "episode 789, reward 1692.0, memory_length 2000, epsilon 0.004958870278354705, total_time 724.0\n",
      "episode 799, reward 1850.0, memory_length 2000, epsilon 0.004958870278354705, total_time 725.0\n",
      "episode 809, reward 1785.0, memory_length 2000, epsilon 0.004958870278354705, total_time 725.0\n",
      "episode 819, reward 1738.0, memory_length 2000, epsilon 0.004958870278354705, total_time 729.0\n",
      "episode 829, reward 2079.0, memory_length 2000, epsilon 0.004958870278354705, total_time 726.0\n",
      "episode 839, reward 1782.0, memory_length 2000, epsilon 0.004958870278354705, total_time 731.0\n",
      "episode 849, reward 1918.0, memory_length 2000, epsilon 0.004958870278354705, total_time 722.0\n",
      "episode 859, reward 1747.0, memory_length 2000, epsilon 0.004958870278354705, total_time 729.0\n",
      "episode 869, reward 1557.0, memory_length 2000, epsilon 0.004958870278354705, total_time 724.0\n"
     ]
    },
    {
     "name": "stdout",
     "output_type": "stream",
     "text": [
      "episode 879, reward 1773.0, memory_length 2000, epsilon 0.004958870278354705, total_time 722.0\n",
      "episode 889, reward 1827.0, memory_length 2000, epsilon 0.004958870278354705, total_time 727.0\n",
      "episode 899, reward 1701.0, memory_length 2000, epsilon 0.004958870278354705, total_time 733.0\n",
      "episode 909, reward 1505.0, memory_length 2000, epsilon 0.004958870278354705, total_time 727.0\n",
      "episode 919, reward 1528.0, memory_length 2000, epsilon 0.004958870278354705, total_time 724.0\n",
      "episode 929, reward 2140.0, memory_length 2000, epsilon 0.004958870278354705, total_time 725.0\n",
      "episode 939, reward 2009.0, memory_length 2000, epsilon 0.004958870278354705, total_time 723.0\n",
      "episode 949, reward 1951.0, memory_length 2000, epsilon 0.004958870278354705, total_time 724.0\n",
      "episode 959, reward 1764.0, memory_length 2000, epsilon 0.004958870278354705, total_time 722.0\n",
      "episode 969, reward 1722.0, memory_length 2000, epsilon 0.004958870278354705, total_time 727.0\n",
      "episode 979, reward 1583.0, memory_length 2000, epsilon 0.004958870278354705, total_time 721.0\n",
      "episode 989, reward 1629.0, memory_length 2000, epsilon 0.004958870278354705, total_time 721.0\n",
      "episode 999, reward 1552.0, memory_length 2000, epsilon 0.004958870278354705, total_time 723.0\n",
      "Completed 1000 Episodes\n",
      "episode 1009, reward 1927.0, memory_length 2000, epsilon 0.004958870278354705, total_time 728.0\n",
      "episode 1019, reward 1747.0, memory_length 2000, epsilon 0.004958870278354705, total_time 722.0\n",
      "episode 1029, reward 1888.0, memory_length 2000, epsilon 0.004958870278354705, total_time 722.0\n",
      "episode 1039, reward 2004.0, memory_length 2000, epsilon 0.004958870278354705, total_time 731.0\n",
      "episode 1049, reward 2197.0, memory_length 2000, epsilon 0.004958870278354705, total_time 721.0\n",
      "episode 1059, reward 1474.0, memory_length 2000, epsilon 0.004958870278354705, total_time 728.0\n",
      "episode 1069, reward 1926.0, memory_length 2000, epsilon 0.004958870278354705, total_time 728.0\n",
      "episode 1079, reward 1638.0, memory_length 2000, epsilon 0.004958870278354705, total_time 721.0\n",
      "episode 1089, reward 1903.0, memory_length 2000, epsilon 0.004958870278354705, total_time 721.0\n",
      "episode 1099, reward 1954.0, memory_length 2000, epsilon 0.004958870278354705, total_time 727.0\n",
      "episode 1109, reward 2350.0, memory_length 2000, epsilon 0.004958870278354705, total_time 728.0\n",
      "episode 1119, reward 1761.0, memory_length 2000, epsilon 0.004958870278354705, total_time 728.0\n",
      "episode 1129, reward 2097.0, memory_length 2000, epsilon 0.004958870278354705, total_time 726.0\n",
      "episode 1139, reward 1807.0, memory_length 2000, epsilon 0.004958870278354705, total_time 723.0\n",
      "episode 1149, reward 1944.0, memory_length 2000, epsilon 0.004958870278354705, total_time 724.0\n",
      "episode 1159, reward 2070.0, memory_length 2000, epsilon 0.004958870278354705, total_time 724.0\n",
      "episode 1169, reward 1563.0, memory_length 2000, epsilon 0.004958870278354705, total_time 721.0\n",
      "episode 1179, reward 1749.0, memory_length 2000, epsilon 0.004958870278354705, total_time 725.0\n",
      "episode 1189, reward 2147.0, memory_length 2000, epsilon 0.004958870278354705, total_time 726.0\n",
      "episode 1199, reward 1679.0, memory_length 2000, epsilon 0.004958870278354705, total_time 726.0\n",
      "episode 1209, reward 2176.0, memory_length 2000, epsilon 0.004958870278354705, total_time 728.0\n",
      "episode 1219, reward 2320.0, memory_length 2000, epsilon 0.004958870278354705, total_time 723.0\n",
      "episode 1229, reward 1963.0, memory_length 2000, epsilon 0.004958870278354705, total_time 721.0\n",
      "episode 1239, reward 1713.0, memory_length 2000, epsilon 0.004958870278354705, total_time 722.0\n",
      "episode 1249, reward 1960.0, memory_length 2000, epsilon 0.004958870278354705, total_time 723.0\n",
      "episode 1259, reward 1282.0, memory_length 2000, epsilon 0.004958870278354705, total_time 723.0\n",
      "episode 1269, reward 1931.0, memory_length 2000, epsilon 0.004958870278354705, total_time 724.0\n",
      "episode 1279, reward 1671.0, memory_length 2000, epsilon 0.004958870278354705, total_time 725.0\n",
      "episode 1289, reward 1717.0, memory_length 2000, epsilon 0.004958870278354705, total_time 725.0\n",
      "episode 1299, reward 1472.0, memory_length 2000, epsilon 0.004958870278354705, total_time 722.0\n",
      "episode 1309, reward 1693.0, memory_length 2000, epsilon 0.004958870278354705, total_time 731.0\n",
      "episode 1319, reward 1761.0, memory_length 2000, epsilon 0.004958870278354705, total_time 722.0\n",
      "episode 1329, reward 2240.0, memory_length 2000, epsilon 0.004958870278354705, total_time 723.0\n",
      "episode 1339, reward 1634.0, memory_length 2000, epsilon 0.004958870278354705, total_time 732.0\n",
      "episode 1349, reward 1737.0, memory_length 2000, epsilon 0.004958870278354705, total_time 731.0\n",
      "episode 1359, reward 2077.0, memory_length 2000, epsilon 0.004958870278354705, total_time 725.0\n",
      "episode 1369, reward 1542.0, memory_length 2000, epsilon 0.004958870278354705, total_time 727.0\n",
      "episode 1379, reward 2184.0, memory_length 2000, epsilon 0.004958870278354705, total_time 727.0\n",
      "episode 1389, reward 1480.0, memory_length 2000, epsilon 0.004958870278354705, total_time 722.0\n",
      "episode 1399, reward 1676.0, memory_length 2000, epsilon 0.004958870278354705, total_time 727.0\n",
      "episode 1409, reward 1524.0, memory_length 2000, epsilon 0.004958870278354705, total_time 725.0\n",
      "episode 1419, reward 1695.0, memory_length 2000, epsilon 0.004958870278354705, total_time 725.0\n",
      "episode 1429, reward 1755.0, memory_length 2000, epsilon 0.004958870278354705, total_time 726.0\n",
      "episode 1439, reward 1858.0, memory_length 2000, epsilon 0.004958870278354705, total_time 721.0\n",
      "episode 1449, reward 1898.0, memory_length 2000, epsilon 0.004958870278354705, total_time 722.0\n",
      "episode 1459, reward 2108.0, memory_length 2000, epsilon 0.004958870278354705, total_time 723.0\n",
      "episode 1469, reward 1719.0, memory_length 2000, epsilon 0.004958870278354705, total_time 731.0\n",
      "episode 1479, reward 1792.0, memory_length 2000, epsilon 0.004958870278354705, total_time 729.0\n",
      "episode 1489, reward 2013.0, memory_length 2000, epsilon 0.004958870278354705, total_time 724.0\n",
      "episode 1499, reward 1495.0, memory_length 2000, epsilon 0.004958870278354705, total_time 725.0\n",
      "episode 1509, reward 1605.0, memory_length 2000, epsilon 0.004958870278354705, total_time 725.0\n",
      "episode 1519, reward 2043.0, memory_length 2000, epsilon 0.004958870278354705, total_time 726.0\n",
      "episode 1529, reward 1694.0, memory_length 2000, epsilon 0.004958870278354705, total_time 725.0\n",
      "episode 1539, reward 2279.0, memory_length 2000, epsilon 0.004958870278354705, total_time 726.0\n",
      "episode 1549, reward 1809.0, memory_length 2000, epsilon 0.004958870278354705, total_time 721.0\n",
      "episode 1559, reward 2120.0, memory_length 2000, epsilon 0.004958870278354705, total_time 724.0\n",
      "episode 1569, reward 1905.0, memory_length 2000, epsilon 0.004958870278354705, total_time 724.0\n",
      "episode 1579, reward 1768.0, memory_length 2000, epsilon 0.004958870278354705, total_time 725.0\n",
      "episode 1589, reward 1382.0, memory_length 2000, epsilon 0.004958870278354705, total_time 728.0\n",
      "episode 1599, reward 2206.0, memory_length 2000, epsilon 0.004958870278354705, total_time 722.0\n",
      "episode 1609, reward 2147.0, memory_length 2000, epsilon 0.004958870278354705, total_time 727.0\n",
      "episode 1619, reward 1814.0, memory_length 2000, epsilon 0.004958870278354705, total_time 732.0\n",
      "episode 1629, reward 2244.0, memory_length 2000, epsilon 0.004958870278354705, total_time 721.0\n",
      "episode 1639, reward 1899.0, memory_length 2000, epsilon 0.004958870278354705, total_time 727.0\n",
      "episode 1649, reward 1985.0, memory_length 2000, epsilon 0.004958870278354705, total_time 728.0\n",
      "episode 1659, reward 1811.0, memory_length 2000, epsilon 0.004958870278354705, total_time 724.0\n",
      "episode 1669, reward 1846.0, memory_length 2000, epsilon 0.004958870278354705, total_time 727.0\n",
      "episode 1679, reward 1949.0, memory_length 2000, epsilon 0.004958870278354705, total_time 721.0\n",
      "episode 1689, reward 1635.0, memory_length 2000, epsilon 0.004958870278354705, total_time 730.0\n",
      "episode 1699, reward 1745.0, memory_length 2000, epsilon 0.004958870278354705, total_time 724.0\n",
      "episode 1709, reward 1980.0, memory_length 2000, epsilon 0.004958870278354705, total_time 730.0\n",
      "episode 1719, reward 2028.0, memory_length 2000, epsilon 0.004958870278354705, total_time 722.0\n",
      "episode 1729, reward 1944.0, memory_length 2000, epsilon 0.004958870278354705, total_time 721.0\n"
     ]
    },
    {
     "name": "stdout",
     "output_type": "stream",
     "text": [
      "episode 1739, reward 2187.0, memory_length 2000, epsilon 0.004958870278354705, total_time 727.0\n",
      "episode 1749, reward 1681.0, memory_length 2000, epsilon 0.004958870278354705, total_time 721.0\n",
      "episode 1759, reward 1748.0, memory_length 2000, epsilon 0.004958870278354705, total_time 729.0\n",
      "episode 1769, reward 1914.0, memory_length 2000, epsilon 0.004958870278354705, total_time 729.0\n",
      "episode 1779, reward 1760.0, memory_length 2000, epsilon 0.004958870278354705, total_time 723.0\n",
      "episode 1789, reward 1703.0, memory_length 2000, epsilon 0.004958870278354705, total_time 729.0\n",
      "episode 1799, reward 1569.0, memory_length 2000, epsilon 0.004958870278354705, total_time 723.0\n",
      "episode 1809, reward 1904.0, memory_length 2000, epsilon 0.004958870278354705, total_time 729.0\n",
      "episode 1819, reward 1814.0, memory_length 2000, epsilon 0.004958870278354705, total_time 723.0\n",
      "episode 1829, reward 2102.0, memory_length 2000, epsilon 0.004958870278354705, total_time 724.0\n",
      "episode 1839, reward 1663.0, memory_length 2000, epsilon 0.004958870278354705, total_time 726.0\n",
      "episode 1849, reward 1585.0, memory_length 2000, epsilon 0.004958870278354705, total_time 727.0\n",
      "episode 1859, reward 1878.0, memory_length 2000, epsilon 0.004958870278354705, total_time 725.0\n",
      "episode 1869, reward 1750.0, memory_length 2000, epsilon 0.004958870278354705, total_time 722.0\n",
      "episode 1879, reward 1906.0, memory_length 2000, epsilon 0.004958870278354705, total_time 723.0\n",
      "episode 1889, reward 1913.0, memory_length 2000, epsilon 0.004958870278354705, total_time 721.0\n",
      "episode 1899, reward 1595.0, memory_length 2000, epsilon 0.004958870278354705, total_time 722.0\n",
      "episode 1909, reward 1549.0, memory_length 2000, epsilon 0.004958870278354705, total_time 729.0\n",
      "episode 1919, reward 2005.0, memory_length 2000, epsilon 0.004958870278354705, total_time 722.0\n",
      "episode 1929, reward 2212.0, memory_length 2000, epsilon 0.004958870278354705, total_time 724.0\n",
      "episode 1939, reward 1890.0, memory_length 2000, epsilon 0.004958870278354705, total_time 729.0\n",
      "episode 1949, reward 1805.0, memory_length 2000, epsilon 0.004958870278354705, total_time 724.0\n",
      "episode 1959, reward 1440.0, memory_length 2000, epsilon 0.004958870278354705, total_time 729.0\n",
      "episode 1969, reward 1994.0, memory_length 2000, epsilon 0.004958870278354705, total_time 726.0\n",
      "episode 1979, reward 1575.0, memory_length 2000, epsilon 0.004958870278354705, total_time 731.0\n",
      "episode 1989, reward 2114.0, memory_length 2000, epsilon 0.004958870278354705, total_time 721.0\n",
      "episode 1999, reward 1764.0, memory_length 2000, epsilon 0.004958870278354705, total_time 730.0\n",
      "28441.084126472473\n"
     ]
    }
   ],
   "source": [
    "start_time = time.time()\n",
    "print(time.strftime(\"Started at GMT: %Y-%m-%d %H:%M:%S\", time.gmtime(start_time)))\n",
    "score_tracked = []\n",
    "\n",
    "for episode in range(n_episodes):\n",
    "\n",
    "    done = False\n",
    "    score = 0\n",
    "    track_reward = False\n",
    "\n",
    "    # reset at the start of each episode\n",
    "    env = CabDriver()\n",
    "    action_space, state_space, state = env.reset()\n",
    "    # Save the initial state so that reward can be tracked if initial state is [0,0,0]\n",
    "    initial_state = env.state_init\n",
    "\n",
    "\n",
    "    total_time = 0  # Total time driver rode in this episode\n",
    "    while not done:\n",
    "        # 1. Get a list of the ride requests driver got.\n",
    "        possible_actions_indices, actions = env.requests(state)\n",
    "        # 2. Pick epsilon-greedy action from possible actions for the current state.\n",
    "        action = agent.get_action(state, possible_actions_indices, actions)\n",
    "\n",
    "        # 3. Evaluate your reward and next state\n",
    "        reward, next_state, step_time = env.step(state, env.action_space[action], Time_matrix)\n",
    "        # 4. Total time driver rode in this episode\n",
    "        total_time += step_time\n",
    "        if (total_time > episode_time):\n",
    "            # if ride does not complete in stipulated time skip\n",
    "            # it and move to next episode.\n",
    "            done = True\n",
    "        else:\n",
    "            # 5. Append the experience to the memory\n",
    "            agent.append_sample(state, action, reward, next_state, done)\n",
    "            # 6. Train the model by calling function agent.train_model\n",
    "            agent.train_model()\n",
    "            # 7. Keep a track of rewards, Q-values, loss\n",
    "            score += reward\n",
    "            state = next_state\n",
    "\n",
    "    # store total reward obtained in this episode\n",
    "    rewards_per_episode.append(score)\n",
    "    episodes.append(episode)\n",
    "\n",
    "    # epsilon decay\n",
    "    # agent.epsilon = (1 - 0.00001) * np.exp(agent.epsilon_decay * episode)\n",
    "    if agent.epsilon > agent.epsilon_min:\n",
    "        agent.epsilon *= agent.epsilon_decay\n",
    "\n",
    "    # every 10 episodes:\n",
    "    if ((episode + 1) % 10 == 0):\n",
    "        print(\"episode {0}, reward {1}, memory_length {2}, epsilon {3}, total_time {4}\".format(episode,\n",
    "                                                                         score,\n",
    "                                                                         len(agent.memory),\n",
    "                                                                         agent.epsilon, total_time))\n",
    "    # Save the Q_value of the state, action pair we are tracking\n",
    "    if ((episode + 1) % 5 == 0):\n",
    "        agent.save_tracking_states()\n",
    "\n",
    "    # Total rewards per episode\n",
    "    score_tracked.append(score)\n",
    "\n",
    "    # Save model_weights after evrey 100 episodes\n",
    "    if(episode % 1000 == 0):\n",
    "        print(\"Completed {} Episodes\".format(episode))\n",
    "        #agent.save_model_weights(name=\"model_weights.h5\")\n",
    "\n",
    "elapsed_time = time.time() - start_time\n",
    "print(elapsed_time)"
   ]
  },
  {
   "cell_type": "code",
   "execution_count": 8,
   "metadata": {},
   "outputs": [],
   "source": [
    "try:\n",
    "    with open('model_weights.pkl', 'wb') as file:\n",
    "        pickle.dump(agent, file, pickle.HIGHEST_PROTOCOL)\n",
    "except: \n",
    "    pass"
   ]
  },
  {
   "cell_type": "code",
   "execution_count": 9,
   "metadata": {
    "colab": {
     "base_uri": "https://localhost:8080/"
    },
    "executionInfo": {
     "elapsed": 26,
     "status": "ok",
     "timestamp": 1637408379478,
     "user": {
      "displayName": "Venki Ramachandran",
      "photoUrl": "https://lh3.googleusercontent.com/a-/AOh14Gj4N_LcMBaS6NUgQ6uPvT_k-YD1o1ZQ_FAuUyQJJS4=s64",
      "userId": "10774707726325294588"
     },
     "user_tz": -330
    },
    "id": "Z0keMt8oedYh",
    "outputId": "5b37c87e-f5eb-445c-a116-e58a4340c90f"
   },
   "outputs": [
    {
     "data": {
      "text/plain": [
       "[168.35437,\n",
       " 288.36362,\n",
       " 388.94504,\n",
       " 425.32513,\n",
       " 407.36353,\n",
       " 8197.385,\n",
       " 457.25174,\n",
       " 405.13034,\n",
       " 453.83722,\n",
       " 479.9801,\n",
       " 453.57828,\n",
       " 402.1239,\n",
       " 437.69025,\n",
       " 444.73734,\n",
       " 423.80493,\n",
       " 560.0526,\n",
       " 395.29956,\n",
       " 438.71967,\n",
       " 578.8759,\n",
       " 554.53516,\n",
       " 542.80115,\n",
       " 549.5931,\n",
       " 513.09503,\n",
       " 558.4058,\n",
       " 491.77185,\n",
       " 591.5337,\n",
       " 460.6989,\n",
       " 615.6839,\n",
       " 564.4029,\n",
       " 469.07544,\n",
       " 584.4224,\n",
       " 611.1889,\n",
       " 633.16266,\n",
       " 615.76996,\n",
       " 573.06006,\n",
       " 652.4885,\n",
       " 604.079,\n",
       " 578.37006,\n",
       " 546.61316,\n",
       " 622.67487,\n",
       " 594.7027,\n",
       " 590.05774,\n",
       " 663.76544,\n",
       " 586.41205,\n",
       " 652.76807,\n",
       " 661.22363,\n",
       " 640.1502,\n",
       " 641.5847,\n",
       " 618.62024,\n",
       " 593.94775,\n",
       " 611.7278,\n",
       " 706.49176,\n",
       " 677.12683,\n",
       " 647.5027,\n",
       " 639.2079,\n",
       " 596.8962,\n",
       " 670.5769,\n",
       " 674.2328,\n",
       " 706.056,\n",
       " 635.9672,\n",
       " 623.1688,\n",
       " 672.191,\n",
       " 623.9502,\n",
       " 555.5163,\n",
       " 621.00104,\n",
       " 638.8208,\n",
       " 608.61255,\n",
       " 632.4842,\n",
       " 597.80664,\n",
       " 628.5871,\n",
       " 571.8111,\n",
       " 614.25964,\n",
       " 624.1817,\n",
       " 633.78674,\n",
       " 640.09485,\n",
       " 635.6802,\n",
       " 623.37885,\n",
       " 635.96277,\n",
       " 597.68787,\n",
       " 619.54065,\n",
       " 637.43494,\n",
       " 680.04846,\n",
       " 605.9494,\n",
       " 648.7538,\n",
       " 626.1391,\n",
       " 632.24786,\n",
       " 639.3279,\n",
       " 671.9874,\n",
       " 624.9253,\n",
       " 631.0765,\n",
       " 641.0695,\n",
       " 629.27057,\n",
       " 663.97986,\n",
       " 665.9434,\n",
       " 661.7519,\n",
       " 613.12476,\n",
       " 601.4008,\n",
       " 597.0623,\n",
       " 627.3467,\n",
       " 598.8306,\n",
       " 605.89966,\n",
       " 619.54333,\n",
       " 600.0927,\n",
       " 624.1324,\n",
       " 629.59814,\n",
       " 644.36053,\n",
       " 611.8993,\n",
       " 628.60724,\n",
       " 593.66705,\n",
       " 609.8014,\n",
       " 581.5758,\n",
       " 603.9214,\n",
       " 632.99854,\n",
       " 649.3185,\n",
       " 612.8569,\n",
       " 616.6574,\n",
       " 615.05585,\n",
       " 630.99945,\n",
       " 644.9462,\n",
       " 653.8831,\n",
       " 597.1884,\n",
       " 660.2469,\n",
       " 619.5992,\n",
       " 638.4153,\n",
       " 639.6222,\n",
       " 648.20496,\n",
       " 658.27783,\n",
       " 639.55444,\n",
       " 663.36523,\n",
       " 637.2615,\n",
       " 648.58026,\n",
       " 628.6748,\n",
       " 688.5172,\n",
       " 629.818,\n",
       " 642.6954,\n",
       " 615.33044,\n",
       " 628.5633,\n",
       " 634.7178,\n",
       " 621.31995,\n",
       " 608.28094,\n",
       " 633.3485,\n",
       " 647.8564,\n",
       " 670.4577,\n",
       " 631.79956,\n",
       " 635.3149,\n",
       " 674.3802,\n",
       " 671.70984,\n",
       " 661.80804,\n",
       " 608.024,\n",
       " 627.53345,\n",
       " 621.98004,\n",
       " 611.5911,\n",
       " 660.4484,\n",
       " 643.4968,\n",
       " 643.93604,\n",
       " 674.70605,\n",
       " 653.71356,\n",
       " 676.38403,\n",
       " 672.5345,\n",
       " 667.0615,\n",
       " 696.31067,\n",
       " 658.8849,\n",
       " 629.4589,\n",
       " 682.01013,\n",
       " 665.71783,\n",
       " 629.1469,\n",
       " 624.0412,\n",
       " 638.80115,\n",
       " 659.5454,\n",
       " 656.15576,\n",
       " 668.6678,\n",
       " 655.6,\n",
       " 649.439,\n",
       " 674.8123,\n",
       " 656.6698,\n",
       " 648.6518,\n",
       " 686.7457,\n",
       " 657.9088,\n",
       " 676.2304,\n",
       " 687.8688,\n",
       " 659.8251,\n",
       " 669.7379,\n",
       " 690.1105,\n",
       " 670.3337,\n",
       " 653.3425,\n",
       " 657.1653,\n",
       " 641.89185,\n",
       " 641.3289,\n",
       " 662.4154,\n",
       " 639.9191,\n",
       " 675.88983,\n",
       " 629.3961,\n",
       " 632.38824,\n",
       " 625.56146,\n",
       " 607.3365,\n",
       " 619.2095,\n",
       " 605.7551,\n",
       " 609.92004,\n",
       " 612.6608,\n",
       " 621.7486,\n",
       " 621.621,\n",
       " 628.77747,\n",
       " 645.097,\n",
       " 630.50073,\n",
       " 648.17596,\n",
       " 650.66144,\n",
       " 648.86395,\n",
       " 665.26886,\n",
       " 650.59247,\n",
       " 660.3658,\n",
       " 666.9254,\n",
       " 648.82184,\n",
       " 633.10535,\n",
       " 636.24945,\n",
       " 596.2491,\n",
       " 634.6366,\n",
       " 614.71326,\n",
       " 669.34125,\n",
       " 614.2636,\n",
       " 582.2497,\n",
       " 625.65436,\n",
       " 601.2388,\n",
       " 622.7902,\n",
       " 619.9323,\n",
       " 626.0865,\n",
       " 620.1693,\n",
       " 621.53735,\n",
       " 611.98096,\n",
       " 618.2955,\n",
       " 631.77167,\n",
       " 607.53467,\n",
       " 627.4217,\n",
       " 643.75165,\n",
       " 616.19226,\n",
       " 620.8371,\n",
       " 622.70703,\n",
       " 601.43427,\n",
       " 614.0858,\n",
       " 634.1595,\n",
       " 604.30457,\n",
       " 610.9362,\n",
       " 612.92957,\n",
       " 603.74475,\n",
       " 616.79285,\n",
       " 586.41473,\n",
       " 586.897,\n",
       " 651.5904,\n",
       " 609.484,\n",
       " 632.94934,\n",
       " 635.57764,\n",
       " 625.0011,\n",
       " 613.4689,\n",
       " 603.05865,\n",
       " 590.6739,\n",
       " 607.9143,\n",
       " 617.92346,\n",
       " 602.5759,\n",
       " 600.0057,\n",
       " 604.8505,\n",
       " 630.4395,\n",
       " 653.9494,\n",
       " 623.2602,\n",
       " 581.9552,\n",
       " 612.68115,\n",
       " 589.97064,\n",
       " 613.5169,\n",
       " 637.5312,\n",
       " 630.28906,\n",
       " 646.0011,\n",
       " 624.6493,\n",
       " 634.9576,\n",
       " 637.7393,\n",
       " 617.1491,\n",
       " 639.2391,\n",
       " 648.2086,\n",
       " 642.67664,\n",
       " 645.29193,\n",
       " 613.028,\n",
       " 618.80817,\n",
       " 626.5691,\n",
       " 626.19965,\n",
       " 645.65295,\n",
       " 651.15564,\n",
       " 643.5727,\n",
       " 657.956,\n",
       " 676.4539,\n",
       " 685.11066,\n",
       " 633.5439,\n",
       " 644.6781,\n",
       " 641.6399,\n",
       " 642.87274,\n",
       " 659.9741,\n",
       " 648.253,\n",
       " 648.31946,\n",
       " 646.74,\n",
       " 652.4461,\n",
       " 626.12616,\n",
       " 668.2387,\n",
       " 658.98816,\n",
       " 658.5392,\n",
       " 669.10516,\n",
       " 642.55554,\n",
       " 651.2994,\n",
       " 659.6508,\n",
       " 648.5925,\n",
       " 646.9943,\n",
       " 665.6879,\n",
       " 658.1114,\n",
       " 668.2046,\n",
       " 658.0894,\n",
       " 658.21277,\n",
       " 658.3848,\n",
       " 665.281,\n",
       " 675.46704,\n",
       " 636.7986,\n",
       " 654.7866,\n",
       " 647.87085,\n",
       " 635.02814,\n",
       " 645.2583,\n",
       " 639.5971,\n",
       " 638.6075,\n",
       " 650.44806,\n",
       " 669.1789,\n",
       " 661.0601,\n",
       " 654.0161,\n",
       " 644.31354,\n",
       " 667.68176,\n",
       " 649.6056,\n",
       " 657.83826,\n",
       " 666.28455,\n",
       " 632.6013,\n",
       " 642.2232,\n",
       " 637.5966,\n",
       " 657.7649,\n",
       " 650.9706,\n",
       " 688.97833,\n",
       " 649.0361,\n",
       " 643.1347,\n",
       " 650.5347,\n",
       " 652.80725,\n",
       " 657.39624,\n",
       " 654.5652,\n",
       " 638.79254,\n",
       " 646.89905,\n",
       " 652.6126,\n",
       " 640.37616,\n",
       " 636.91705,\n",
       " 658.4674,\n",
       " 649.1506,\n",
       " 634.4094,\n",
       " 647.21515,\n",
       " 634.2373,\n",
       " 643.3716,\n",
       " 640.3841,\n",
       " 668.5437,\n",
       " 660.7146,\n",
       " 629.06976,\n",
       " 643.1226,\n",
       " 646.6878,\n",
       " 612.54205,\n",
       " 685.7249,\n",
       " 651.60016,\n",
       " 675.1021,\n",
       " 647.00275,\n",
       " 649.3666,\n",
       " 670.82324,\n",
       " 657.6414,\n",
       " 656.9542,\n",
       " 645.64325,\n",
       " 652.2414,\n",
       " 672.77576,\n",
       " 685.2286,\n",
       " 682.81995,\n",
       " 671.68976,\n",
       " 650.37897,\n",
       " 648.18933,\n",
       " 671.92773,\n",
       " 643.0879,\n",
       " 655.0599,\n",
       " 634.7903,\n",
       " 639.8122,\n",
       " 654.31665,\n",
       " 635.989,\n",
       " 655.7612,\n",
       " 662.6341,\n",
       " 668.05194,\n",
       " 689.81683,\n",
       " 690.69403,\n",
       " 731.4329,\n",
       " 695.96985,\n",
       " 689.5856,\n",
       " 683.9169,\n",
       " 652.6891,\n",
       " 691.2771,\n",
       " 661.88135,\n",
       " 643.6741,\n",
       " 661.7809,\n",
       " 647.84625,\n",
       " 638.5097,\n",
       " 643.5699]"
      ]
     },
     "execution_count": 9,
     "metadata": {},
     "output_type": "execute_result"
    }
   ],
   "source": [
    "agent.states_tracked"
   ]
  },
  {
   "cell_type": "markdown",
   "metadata": {
    "id": "Iq4O1BhAedYi"
   },
   "source": [
    "### Tracking Convergence"
   ]
  },
  {
   "cell_type": "code",
   "execution_count": 10,
   "metadata": {
    "executionInfo": {
     "elapsed": 8,
     "status": "ok",
     "timestamp": 1637408379479,
     "user": {
      "displayName": "Venki Ramachandran",
      "photoUrl": "https://lh3.googleusercontent.com/a-/AOh14Gj4N_LcMBaS6NUgQ6uPvT_k-YD1o1ZQ_FAuUyQJJS4=s64",
      "userId": "10774707726325294588"
     },
     "user_tz": -330
    },
    "id": "GYw8Mfg5edYj"
   },
   "outputs": [],
   "source": [
    "state_tracked_sample = [agent.states_tracked[i] for i in range(len(agent.states_tracked)) if agent.states_tracked[i] < 1000]"
   ]
  },
  {
   "cell_type": "code",
   "execution_count": 11,
   "metadata": {
    "colab": {
     "base_uri": "https://localhost:8080/",
     "height": 444
    },
    "executionInfo": {
     "elapsed": 1116,
     "status": "ok",
     "timestamp": 1637408380588,
     "user": {
      "displayName": "Venki Ramachandran",
      "photoUrl": "https://lh3.googleusercontent.com/a-/AOh14Gj4N_LcMBaS6NUgQ6uPvT_k-YD1o1ZQ_FAuUyQJJS4=s64",
      "userId": "10774707726325294588"
     },
     "user_tz": -330
    },
    "id": "ntij4Ha8edYk",
    "outputId": "cb40d4ae-90b5-4548-e2a4-3d78f4410a38"
   },
   "outputs": [
    {
     "data": {
      "image/png": "[encoded data removed]",
      "text/plain": [
       "<Figure size 432x288 with 1 Axes>"
      ]
     },
     "metadata": {
      "needs_background": "light"
     },
     "output_type": "display_data"
    }
   ],
   "source": [
    "plt.title('Q_value for state [0,0,0]  action (0,2)')\n",
    "xaxis = np.asarray(range(0, len(agent.states_tracked)))\n",
    "plt.semilogy(xaxis,np.asarray(agent.states_tracked))\n",
    "plt.show()"
   ]
  },
  {
   "cell_type": "code",
   "execution_count": 12,
   "metadata": {
    "executionInfo": {
     "elapsed": 20,
     "status": "ok",
     "timestamp": 1637408380593,
     "user": {
      "displayName": "Venki Ramachandran",
      "photoUrl": "https://lh3.googleusercontent.com/a-/AOh14Gj4N_LcMBaS6NUgQ6uPvT_k-YD1o1ZQ_FAuUyQJJS4=s64",
      "userId": "10774707726325294588"
     },
     "user_tz": -330
    },
    "id": "H1p_kOZhedYl"
   },
   "outputs": [],
   "source": [
    "score_tracked_sample = [score_tracked[i] for i in range(len(score_tracked)) if (i % 4 == 0)]"
   ]
  },
  {
   "cell_type": "code",
   "execution_count": 13,
   "metadata": {
    "colab": {
     "base_uri": "https://localhost:8080/",
     "height": 444
    },
    "executionInfo": {
     "elapsed": 20,
     "status": "ok",
     "timestamp": 1637408380594,
     "user": {
      "displayName": "Venki Ramachandran",
      "photoUrl": "https://lh3.googleusercontent.com/a-/AOh14Gj4N_LcMBaS6NUgQ6uPvT_k-YD1o1ZQ_FAuUyQJJS4=s64",
      "userId": "10774707726325294588"
     },
     "user_tz": -330
    },
    "id": "SbYzoJjnedYl",
    "outputId": "a419d812-e0a8-4975-ae7a-97c5a3308c1e"
   },
   "outputs": [
    {
     "data": {
      "image/png": "[encoded data removed]",
      "text/plain": [
       "<Figure size 432x288 with 1 Axes>"
      ]
     },
     "metadata": {
      "needs_background": "light"
     },
     "output_type": "display_data"
    }
   ],
   "source": [
    "plt.title('Rewards per episode')\n",
    "xaxis = np.asarray(range(0, len(score_tracked_sample)))\n",
    "plt.plot(xaxis,np.asarray(score_tracked_sample))\n",
    "plt.show()"
   ]
  },
  {
   "cell_type": "markdown",
   "metadata": {},
   "source": [
    "##### We can see from the above plot that the rewards converge at around 1700. Since the initial state is picked to be random for each episode, some initial states may be less rewarding than others inherently regardless of the model quality."
   ]
  },
  {
   "cell_type": "markdown",
   "metadata": {},
   "source": [
    "#### Epsilon-decay function for this model."
   ]
  },
  {
   "cell_type": "code",
   "execution_count": 14,
   "metadata": {},
   "outputs": [],
   "source": [
    "time = np.arange(0,2000)\n",
    "epsilon_ = 1\n",
    "epsilon_decay = 0.99\n",
    "epsilon_min = 0.005\n",
    "epsilon = []\n",
    "\n",
    "for i in range(0,2000):\n",
    "    if epsilon_ > epsilon_min:\n",
    "        epsilon_ *= epsilon_decay\n",
    "    epsilon.append(epsilon_)"
   ]
  },
  {
   "cell_type": "code",
   "execution_count": 15,
   "metadata": {},
   "outputs": [
    {
     "data": {
      "image/png": "[encoded data removed]",
      "text/plain": [
       "<Figure size 432x288 with 1 Axes>"
      ]
     },
     "metadata": {
      "needs_background": "light"
     },
     "output_type": "display_data"
    }
   ],
   "source": [
    "plt.plot(time, epsilon)\n",
    "plt.show()"
   ]
  },
  {
   "cell_type": "markdown",
   "metadata": {
    "id": "GnuPt36XedYm"
   },
   "source": [
    "#### Epsilon-decay sample function"
   ]
  },
  {
   "cell_type": "code",
   "execution_count": 16,
   "metadata": {
    "executionInfo": {
     "elapsed": 27,
     "status": "ok",
     "timestamp": 1637408381505,
     "user": {
      "displayName": "Venki Ramachandran",
      "photoUrl": "https://lh3.googleusercontent.com/a-/AOh14Gj4N_LcMBaS6NUgQ6uPvT_k-YD1o1ZQ_FAuUyQJJS4=s64",
      "userId": "10774707726325294588"
     },
     "user_tz": -330
    },
    "id": "pR_aFyrsedYn"
   },
   "outputs": [],
   "source": [
    "time = np.arange(0,10000)\n",
    "epsilon = []\n",
    "for i in range(0,10000):\n",
    "    epsilon.append(0 + (1 - 0) * np.exp(-0.0009*i))"
   ]
  },
  {
   "cell_type": "code",
   "execution_count": 17,
   "metadata": {
    "colab": {
     "base_uri": "https://localhost:8080/",
     "height": 265
    },
    "executionInfo": {
     "elapsed": 27,
     "status": "ok",
     "timestamp": 1637408381506,
     "user": {
      "displayName": "Venki Ramachandran",
      "photoUrl": "https://lh3.googleusercontent.com/a-/AOh14Gj4N_LcMBaS6NUgQ6uPvT_k-YD1o1ZQ_FAuUyQJJS4=s64",
      "userId": "10774707726325294588"
     },
     "user_tz": -330
    },
    "id": "79IpcB2pedYn",
    "outputId": "47531142-c40f-453b-af78-68c327e3f1a9"
   },
   "outputs": [
    {
     "data": {
      "image/png": "[encoded data removed]",
      "text/plain": [
       "<Figure size 432x288 with 1 Axes>"
      ]
     },
     "metadata": {
      "needs_background": "light"
     },
     "output_type": "display_data"
    }
   ],
   "source": [
    "plt.plot(time, epsilon)\n",
    "plt.show()"
   ]
  }
 ],
 "metadata": {
  "accelerator": "TPU",
  "colab": {
   "collapsed_sections": [],
   "name": "DQN_Agent_Arch1.ipynb",
   "provenance": []
  },
  "kernelspec": {
   "display_name": "Python 3",
   "language": "python",
   "name": "python3"
  },
  "language_info": {
   "codemirror_mode": {
    "name": "ipython",
    "version": 3
   },
   "file_extension": ".py",
   "mimetype": "text/x-python",
   "name": "python",
   "nbconvert_exporter": "python",
   "pygments_lexer": "ipython3",
   "version": "3.7.1"
  }
 },
 "nbformat": 4,
 "nbformat_minor": 1
}
